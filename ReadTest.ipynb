{
  "nbformat": 4,
  "nbformat_minor": 0,
  "metadata": {
    "colab": {
      "name": "ReadTest.ipynb",
      "private_outputs": true,
      "provenance": [],
      "toc_visible": true,
      "mount_file_id": "1l1D7HUQX6_uoRJLmVNVc3Nt3-QakBLyD",
      "authorship_tag": "ABX9TyN1E5DuJQ0umx7dUIVDgT8i",
      "include_colab_link": true
    },
    "kernelspec": {
      "name": "python3",
      "display_name": "Python 3"
    }
  },
  "cells": [
    {
      "cell_type": "markdown",
      "metadata": {
        "id": "view-in-github",
        "colab_type": "text"
      },
      "source": [
        "<a href=\"https://colab.research.google.com/github/hiroykim/colab/blob/master/ReadTest.ipynb\" target=\"_parent\"><img src=\"https://colab.research.google.com/assets/colab-badge.svg\" alt=\"Open In Colab\"/></a>"
      ]
    },
    {
      "cell_type": "code",
      "metadata": {
        "id": "yl-5yJ-TyfPA"
      },
      "source": [
        "from pptx import Presentation\r\n",
        "#ppt읽기\r\n",
        "prs = Presentation(\"/ppt1.pptx\")\r\n",
        "result = []\r\n",
        "for slide in prs.slides:\r\n",
        "    for shape in slide.shapes:\r\n",
        "        if not shape.has_text_frame:\r\n",
        "            continue\r\n",
        "        for paragraph in shape.text_frame.paragraphs:\r\n",
        "            result.append(paragraph.text)\r\n",
        "print(result)"
      ],
      "execution_count": null,
      "outputs": []
    },
    {
      "cell_type": "code",
      "metadata": {
        "id": "vjDmRvypzl76"
      },
      "source": [
        ""
      ],
      "execution_count": null,
      "outputs": []
    }
  ]
}