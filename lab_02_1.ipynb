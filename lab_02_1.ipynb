{
  "nbformat": 4,
  "nbformat_minor": 0,
  "metadata": {
    "colab": {
      "name": "lab-02-1.ipynb",
      "provenance": [],
      "private_outputs": true,
      "authorship_tag": "ABX9TyNbfMo+WEpiQHXvlUyL8a4n",
      "include_colab_link": true
    },
    "kernelspec": {
      "name": "python3",
      "display_name": "Python 3"
    }
  },
  "cells": [
    {
      "cell_type": "markdown",
      "metadata": {
        "id": "view-in-github",
        "colab_type": "text"
      },
      "source": [
        "<a href=\"https://colab.research.google.com/github/hiroykim/colab/blob/master/lab_02_1.ipynb\" target=\"_parent\"><img src=\"https://colab.research.google.com/assets/colab-badge.svg\" alt=\"Open In Colab\"/></a>"
      ]
    },
    {
      "cell_type": "code",
      "metadata": {
        "id": "G4tQRTCJmLNg",
        "colab_type": "code",
        "colab": {}
      },
      "source": [
        "import tensorflow as tf\n",
        "import numpy as np"
      ],
      "execution_count": null,
      "outputs": []
    },
    {
      "cell_type": "code",
      "metadata": {
        "id": "Pgai87nQmSaH",
        "colab_type": "code",
        "colab": {}
      },
      "source": [
        "x_data = [1, 2, 3, 4, 5]\n",
        "y_data = [1, 2, 3, 4, 5]"
      ],
      "execution_count": null,
      "outputs": []
    },
    {
      "cell_type": "code",
      "metadata": {
        "id": "MtM01rrfmXUO",
        "colab_type": "code",
        "colab": {}
      },
      "source": [
        "%matplotlib inline\n",
        "import matplotlib.pyplot as plt\n",
        "plt.plot(x_data, y_data, 'go--')\n",
        "plt.ylim(0, 8)\n",
        "#?plt.plot(x)"
      ],
      "execution_count": null,
      "outputs": []
    },
    {
      "cell_type": "code",
      "metadata": {
        "id": "azIf0i2AmZTd",
        "colab_type": "code",
        "colab": {}
      },
      "source": [
        "v =[1., 2., 3., 4.]\n",
        "tf.reduce_mean(v) # 2.5\n",
        "#jwkim\n",
        "print(tf.reduce_mean(v))\n"
      ],
      "execution_count": null,
      "outputs": []
    },
    {
      "cell_type": "code",
      "metadata": {
        "id": "S8mzLfscmjT6",
        "colab_type": "code",
        "colab": {}
      },
      "source": [
        "tf.square(3) # 9\n",
        "#jwkim\n",
        "print(tf.square(3))"
      ],
      "execution_count": null,
      "outputs": []
    },
    {
      "cell_type": "code",
      "metadata": {
        "id": "jLyz5wgbmlY_",
        "colab_type": "code",
        "colab": {}
      },
      "source": [
        ""
      ],
      "execution_count": null,
      "outputs": []
    }
  ]
}