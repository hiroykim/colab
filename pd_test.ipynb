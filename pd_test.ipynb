{
  "nbformat": 4,
  "nbformat_minor": 0,
  "metadata": {
    "colab": {
      "name": "pd-test.ipynb",
      "provenance": [],
      "private_outputs": true,
      "authorship_tag": "ABX9TyMUyrfTnS6FTlruMNAIQzUl",
      "include_colab_link": true
    },
    "kernelspec": {
      "name": "python3",
      "display_name": "Python 3"
    }
  },
  "cells": [
    {
      "cell_type": "markdown",
      "metadata": {
        "id": "view-in-github",
        "colab_type": "text"
      },
      "source": [
        "<a href=\"https://colab.research.google.com/github/hiroykim/colab/blob/master/pd_test.ipynb\" target=\"_parent\"><img src=\"https://colab.research.google.com/assets/colab-badge.svg\" alt=\"Open In Colab\"/></a>"
      ]
    },
    {
      "cell_type": "code",
      "metadata": {
        "id": "7FGo3hmo859Z",
        "colab_type": "code",
        "colab": {}
      },
      "source": [
        "import pandas as pd\n",
        "import numpy as np"
      ],
      "execution_count": null,
      "outputs": []
    },
    {
      "cell_type": "code",
      "metadata": {
        "id": "E_TSRz4989eh",
        "colab_type": "code",
        "colab": {}
      },
      "source": [
        "df1 = pd.DataFrame(\n",
        "      {\"a1\":[1,2,3,4,5],\n",
        "       \"a2\":[20,30,40,50,60],\n",
        "       \"a3\":[200,300,400,500,600],}\n",
        "       ,index=[0,1,2,3,4]\n",
        ")\n",
        "df1"
      ],
      "execution_count": null,
      "outputs": []
    },
    {
      "cell_type": "code",
      "metadata": {
        "id": "eO6QhEPW9fua",
        "colab_type": "code",
        "colab": {}
      },
      "source": [
        "df2 = pd.DataFrame(\n",
        "      [ [1,2],[3,4],[5,6] ]\n",
        "      ,index=[1,2,3]\n",
        "      ,columns=['a','b']\n",
        ")\n",
        "df2"
      ],
      "execution_count": null,
      "outputs": []
    },
    {
      "cell_type": "code",
      "metadata": {
        "id": "1ACk9Ts0-eci",
        "colab_type": "code",
        "colab": {}
      },
      "source": [
        "df1[df.a1==1]\n",
        "df1.query('a2>30')"
      ],
      "execution_count": null,
      "outputs": []
    },
    {
      "cell_type": "code",
      "metadata": {
        "id": "9z16RW0TAhLA",
        "colab_type": "code",
        "colab": {}
      },
      "source": [
        "df1.loc[[0,2]] "
      ],
      "execution_count": null,
      "outputs": []
    },
    {
      "cell_type": "code",
      "metadata": {
        "id": "iSnq_HWxAjZ2",
        "colab_type": "code",
        "colab": {}
      },
      "source": [
        "df1[ (df1.a1 >= 1) & (df1['a3'] < 400) ]"
      ],
      "execution_count": null,
      "outputs": []
    },
    {
      "cell_type": "code",
      "metadata": {
        "id": "Z9CWTOuwAj6L",
        "colab_type": "code",
        "colab": {}
      },
      "source": [
        "df1.iloc[1:3,1:3]"
      ],
      "execution_count": null,
      "outputs": []
    },
    {
      "cell_type": "code",
      "metadata": {
        "id": "VuEbOa2OCDss",
        "colab_type": "code",
        "colab": {}
      },
      "source": [
        "df1"
      ],
      "execution_count": null,
      "outputs": []
    },
    {
      "cell_type": "code",
      "metadata": {
        "id": "v7riOCa0CElC",
        "colab_type": "code",
        "colab": {}
      },
      "source": [
        "df1.a1*1000\n",
        "df1.a1 = df1.a1*1000\n",
        "df1"
      ],
      "execution_count": null,
      "outputs": []
    },
    {
      "cell_type": "code",
      "metadata": {
        "id": "zTmFLcl8CMua",
        "colab_type": "code",
        "colab": {}
      },
      "source": [
        "df1.filter(items=['a3',])"
      ],
      "execution_count": null,
      "outputs": []
    },
    {
      "cell_type": "code",
      "metadata": {
        "id": "vJixcZ0WDEwp",
        "colab_type": "code",
        "colab": {}
      },
      "source": [
        "df1.filter(like='3')"
      ],
      "execution_count": null,
      "outputs": []
    },
    {
      "cell_type": "code",
      "metadata": {
        "id": "2QZ_unWNDNKC",
        "colab_type": "code",
        "colab": {}
      },
      "source": [
        "df1[['a1','a3']]"
      ],
      "execution_count": null,
      "outputs": []
    },
    {
      "cell_type": "code",
      "metadata": {
        "id": "aM3_n8zmDkAc",
        "colab_type": "code",
        "colab": {}
      },
      "source": [
        "df"
      ],
      "execution_count": null,
      "outputs": []
    },
    {
      "cell_type": "code",
      "metadata": {
        "id": "3y0BrFpmDmHL",
        "colab_type": "code",
        "colab": {}
      },
      "source": [
        "df2"
      ],
      "execution_count": null,
      "outputs": []
    },
    {
      "cell_type": "code",
      "metadata": {
        "id": "HPvmF9ygEBfU",
        "colab_type": "code",
        "colab": {}
      },
      "source": [
        "df2 = df2.rename(columns={'a':'a1', 'b':'b2'})\n",
        "df2"
      ],
      "execution_count": null,
      "outputs": []
    },
    {
      "cell_type": "code",
      "metadata": {
        "id": "GprSpJiTFjy0",
        "colab_type": "code",
        "colab": {}
      },
      "source": [
        "pd.merge(df, df2)"
      ],
      "execution_count": null,
      "outputs": []
    }
  ]
}